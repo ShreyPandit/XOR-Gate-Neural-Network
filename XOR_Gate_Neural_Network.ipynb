{
  "nbformat": 4,
  "nbformat_minor": 0,
  "metadata": {
    "colab": {
      "name": "XOR Gate Neural Network",
      "provenance": [],
      "collapsed_sections": [],
      "authorship_tag": "ABX9TyPlqhknQ1WQh6hyZ+KH49Uk",
      "include_colab_link": true
    },
    "kernelspec": {
      "name": "python3",
      "display_name": "Python 3"
    }
  },
  "cells": [
    {
      "cell_type": "markdown",
      "metadata": {
        "id": "view-in-github",
        "colab_type": "text"
      },
      "source": [
        "<a href=\"https://colab.research.google.com/github/ShreyPandit/XOR-Gate-Neural-Network/blob/master/XOR_Gate_Neural_Network.ipynb\" target=\"_parent\"><img src=\"https://colab.research.google.com/assets/colab-badge.svg\" alt=\"Open In Colab\"/></a>"
      ]
    },
    {
      "cell_type": "code",
      "metadata": {
        "id": "_LyXEJOEBWXg",
        "colab_type": "code",
        "colab": {}
      },
      "source": [
        "import numpy as np \n",
        "np.random.seed(0)"
      ],
      "execution_count": 0,
      "outputs": []
    },
    {
      "cell_type": "code",
      "metadata": {
        "id": "pn8upmDNEDau",
        "colab_type": "code",
        "colab": {}
      },
      "source": [
        "def sigmoid (x):\n",
        "    return 1/(1 + np.exp(-x))"
      ],
      "execution_count": 0,
      "outputs": []
    },
    {
      "cell_type": "code",
      "metadata": {
        "id": "wtLtD5GHEH0e",
        "colab_type": "code",
        "colab": {}
      },
      "source": [
        "def sigmoid_derivative(x):\n",
        "    return x * (1 - x)"
      ],
      "execution_count": 0,
      "outputs": []
    },
    {
      "cell_type": "code",
      "metadata": {
        "id": "TdYDbgj3EJtM",
        "colab_type": "code",
        "colab": {}
      },
      "source": [
        "inputs = np.array([[0,0],[0,1],[1,0],[1,1]])\n",
        "expected_output = np.array([[0],[1],[1],[0]])"
      ],
      "execution_count": 0,
      "outputs": []
    },
    {
      "cell_type": "code",
      "metadata": {
        "id": "lhfwNFgJETkQ",
        "colab_type": "code",
        "colab": {}
      },
      "source": [
        "epochs = 10000\n",
        "lr = 0.1\n",
        "inputLayerNeurons, hiddenLayerNeurons, outputLayerNeurons = 2,2,1"
      ],
      "execution_count": 0,
      "outputs": []
    },
    {
      "cell_type": "code",
      "metadata": {
        "id": "LhQT1RfhEXfp",
        "colab_type": "code",
        "colab": {}
      },
      "source": [
        "hidden_weights = np.random.uniform(size=(inputLayerNeurons,hiddenLayerNeurons))\n",
        "hidden_bias =np.random.uniform(size=(1,hiddenLayerNeurons))\n",
        "output_weights = np.random.uniform(size=(hiddenLayerNeurons,outputLayerNeurons))\n",
        "output_bias = np.random.uniform(size=(1,outputLayerNeurons))"
      ],
      "execution_count": 0,
      "outputs": []
    },
    {
      "cell_type": "code",
      "metadata": {
        "id": "_8zlsZzBEagd",
        "colab_type": "code",
        "colab": {
          "base_uri": "https://localhost:8080/",
          "height": 92
        },
        "outputId": "c8bf47ed-425c-44b3-9eae-c55665699a51"
      },
      "source": [
        "print(\"Initial hidden weights: \",end='')\n",
        "print(*hidden_weights)\n",
        "print(\"Initial hidden biases: \",end='')\n",
        "print(*hidden_bias)\n",
        "print(\"Initial output weights: \",end='')\n",
        "print(*output_weights)\n",
        "print(\"Initial output biases: \",end='')\n",
        "print(*output_bias)"
      ],
      "execution_count": 50,
      "outputs": [
        {
          "output_type": "stream",
          "text": [
            "Initial hidden weights: [0.5488135  0.71518937] [0.60276338 0.54488318]\n",
            "Initial hidden biases: [0.4236548  0.64589411]\n",
            "Initial output weights: [0.43758721] [0.891773]\n",
            "Initial output biases: [0.96366276]\n"
          ],
          "name": "stdout"
        }
      ]
    },
    {
      "cell_type": "code",
      "metadata": {
        "id": "NkzOR8RzEdqZ",
        "colab_type": "code",
        "colab": {
          "base_uri": "https://localhost:8080/",
          "height": 279
        },
        "outputId": "0a7abf37-b77c-4aa6-eb7f-9dfc5213d88c"
      },
      "source": [
        "learning_rates=[0.1,0.2,0.3,0.4,0.5,0.6,0.7,0.8,0.9,0.92,0.94,0.96,0.98,1]\n",
        "for x in learning_rates:\n",
        "  inputs = np.array([[0,0],[0,1],[1,0],[1,1]])\n",
        "  expected_output = np.array([[0],[1],[1],[0]])\n",
        "  hidden_weights = np.random.uniform(size=(inputLayerNeurons,hiddenLayerNeurons))\n",
        "  hidden_bias =np.random.uniform(size=(1,hiddenLayerNeurons))\n",
        "  output_weights = np.random.uniform(size=(hiddenLayerNeurons,outputLayerNeurons))\n",
        "  output_bias = np.random.uniform(size=(1,outputLayerNeurons))\n",
        "\n",
        "  for _ in range(epochs):\n",
        "    lr=x\n",
        "    #Forward Propagation\n",
        "    hidden_layer_activation = np.dot(inputs,hidden_weights)\n",
        "    hidden_layer_activation += hidden_bias\n",
        "    hidden_layer_output = sigmoid(hidden_layer_activation)\n",
        "\n",
        "    output_layer_activation = np.dot(hidden_layer_output,output_weights)\n",
        "    output_layer_activation += output_bias\n",
        "    predicted_output = sigmoid(output_layer_activation)\n",
        "\n",
        "    #Backpropagation\n",
        "    error = expected_output - predicted_output\n",
        "    d_predicted_output = error * sigmoid_derivative(predicted_output)\n",
        "    \n",
        "    error_hidden_layer = d_predicted_output.dot(output_weights.T)\n",
        "    d_hidden_layer = error_hidden_layer * sigmoid_derivative(hidden_layer_output)\n",
        "\n",
        "    #Updating Weights and Biases\n",
        "    output_weights += hidden_layer_output.T.dot(d_predicted_output) * lr\n",
        "    output_bias += np.sum(d_predicted_output,axis=0,keepdims=True) * lr\n",
        "    hidden_weights += inputs.T.dot(d_hidden_layer) * lr\n",
        "    hidden_bias += np.sum(d_hidden_layer,axis=0,keepdims=True) * lr\n",
        "\n",
        "  def predict(a,b):\n",
        "    inp=np.array([[a,b]])\n",
        "    activation=np.dot(inp,hidden_weights)\n",
        "    activation+=hidden_bias\n",
        "    output=sigmoid(activation)\n",
        "    output_activation=np.dot(output,output_weights)\n",
        "    output_activation+=output_bias\n",
        "    pred=sigmoid(output_activation)\n",
        "    return pred\n",
        "\n",
        "  error=(1-(float(predict(1,0))))*100\n",
        "  print(x,error)\n",
        "\n"
      ],
      "execution_count": 51,
      "outputs": [
        {
          "output_type": "stream",
          "text": [
            "0.1 7.775832667948945\n",
            "0.2 2.931571967686608\n",
            "0.3 2.245572634810511\n",
            "0.4 1.8644930001458504\n",
            "0.5 1.6653208897926652\n",
            "0.6 1.5606404552293784\n",
            "0.7 1.3539152580899994\n",
            "0.8 1.2510317065000387\n",
            "0.9 1.2113661033175238\n",
            "0.92 1.1918587442255935\n",
            "0.94 1.1509133719264653\n",
            "0.96 1.1371414710896421\n",
            "0.98 1.1351705323124683\n",
            "1 1.0668087562451745\n"
          ],
          "name": "stdout"
        }
      ]
    },
    {
      "cell_type": "code",
      "metadata": {
        "id": "qDEw0Pg2KyNl",
        "colab_type": "code",
        "colab": {}
      },
      "source": [
        "learning_rates=0.98\n",
        "for _ in range(epochs):\n",
        "  lr=x\n",
        "  #Forward Propagation\n",
        "  hidden_layer_activation = np.dot(inputs,hidden_weights)\n",
        "  hidden_layer_activation += hidden_bias\n",
        "  hidden_layer_output = sigmoid(hidden_layer_activation)\n",
        "\n",
        "  output_layer_activation = np.dot(hidden_layer_output,output_weights)\n",
        "  output_layer_activation += output_bias\n",
        "  predicted_output = sigmoid(output_layer_activation)\n",
        "\n",
        "  #Backpropagation\n",
        "  error = expected_output - predicted_output\n",
        "  d_predicted_output = error * sigmoid_derivative(predicted_output)\n",
        "  \n",
        "  error_hidden_layer = d_predicted_output.dot(output_weights.T)\n",
        "  d_hidden_layer = error_hidden_layer * sigmoid_derivative(hidden_layer_output)\n",
        "\n",
        "  #Updating Weights and Biases\n",
        "  output_weights += hidden_layer_output.T.dot(d_predicted_output) * lr\n",
        "  output_bias += np.sum(d_predicted_output,axis=0,keepdims=True) * lr\n",
        "  hidden_weights += inputs.T.dot(d_hidden_layer) * lr\n",
        "  hidden_bias += np.sum(d_hidden_layer,axis=0,keepdims=True) * lr\n"
      ],
      "execution_count": 0,
      "outputs": []
    },
    {
      "cell_type": "code",
      "metadata": {
        "id": "Wba8-iusEru6",
        "colab_type": "code",
        "colab": {
          "base_uri": "https://localhost:8080/",
          "height": 129
        },
        "outputId": "2c073b92-b249-4c15-e1ba-9e7391b6da8b"
      },
      "source": [
        "print(\"Final hidden weights: \",end='')\n",
        "print(*hidden_weights)\n",
        "print(\"Final hidden bias: \",end='')\n",
        "print(*hidden_bias)\n",
        "print(\"Final output weights: \",end='')\n",
        "print(*output_weights)\n",
        "print(\"Final output bias: \",end='')\n",
        "print(*output_bias)\n",
        "\n",
        "print(\"\\nOutput from neural network after 10,000 epochs: \",end='')\n",
        "print(*predicted_output)"
      ],
      "execution_count": 53,
      "outputs": [
        {
          "output_type": "stream",
          "text": [
            "Final hidden weights: [-4.32232957  4.194228  ] [10.63114358 10.55350429]\n",
            "Final hidden bias: [ 3.26487711 -1.00454834]\n",
            "Final output weights: [-7.00481282] [7.00047003]\n",
            "Final output bias: [0.0043109]\n",
            "\n",
            "Output from neural network after 10,000 epochs: [0.00764323] [0.4998689] [0.99276832] [0.50011191]\n"
          ],
          "name": "stdout"
        }
      ]
    },
    {
      "cell_type": "code",
      "metadata": {
        "id": "61lYXgEoEvsT",
        "colab_type": "code",
        "colab": {}
      },
      "source": [
        "def predict(a,b):\n",
        "  inp=np.array([[a,b]])\n",
        "  activation=np.dot(inp,hidden_weights)\n",
        "  activation+=hidden_bias\n",
        "  output=sigmoid(activation)\n",
        "  output_activation=np.dot(output,output_weights)\n",
        "  output_activation+=output_bias\n",
        "  pred=sigmoid(output_activation)\n",
        "  if (pred>=0.5):\n",
        "    pred=1\n",
        "  else:\n",
        "    pred=0\n",
        "  return pred\n"
      ],
      "execution_count": 0,
      "outputs": []
    },
    {
      "cell_type": "code",
      "metadata": {
        "id": "J9aic8xdXrNR",
        "colab_type": "code",
        "colab": {
          "base_uri": "https://localhost:8080/",
          "height": 36
        },
        "outputId": "1f26c0fa-f748-4af8-d595-67f28e57d09d"
      },
      "source": [
        "print(predict(0,0))"
      ],
      "execution_count": 66,
      "outputs": [
        {
          "output_type": "stream",
          "text": [
            "0\n"
          ],
          "name": "stdout"
        }
      ]
    },
    {
      "cell_type": "code",
      "metadata": {
        "id": "5w2PtbahGmgy",
        "colab_type": "code",
        "colab": {
          "base_uri": "https://localhost:8080/",
          "height": 36
        },
        "outputId": "63bacaf3-d9f9-4e2b-c29b-d6094c25a21a"
      },
      "source": [
        "error=(1-(float(predict(1,0))))*100\n",
        "print(error)"
      ],
      "execution_count": 64,
      "outputs": [
        {
          "output_type": "stream",
          "text": [
            "0.0\n"
          ],
          "name": "stdout"
        }
      ]
    },
    {
      "cell_type": "code",
      "metadata": {
        "id": "4Eqmfc4UQiCa",
        "colab_type": "code",
        "colab": {}
      },
      "source": [
        ""
      ],
      "execution_count": 0,
      "outputs": []
    }
  ]
}